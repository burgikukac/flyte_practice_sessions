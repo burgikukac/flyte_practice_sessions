{
 "cells": [
  {
   "cell_type": "code",
   "execution_count": null,
   "metadata": {},
   "outputs": [],
   "source": [
    "from flytekit import task, workflow, map_task\n",
    "from ray import tune\n",
    "import numpy as np\n",
    "\n",
    "# Black-box model function to evaluate each configuration\n",
    "@task\n",
    "def evaluate_model(x: float, y: float) -> float:\n",
    "    # Custom loss function (replace with actual model loss calculation)\n",
    "    loss = (x - 3) ** 2 + (y + 2) ** 2 + np.random.normal(0, 0.1)\n",
    "    return loss\n",
    "\n",
    "# Flyte workflow to execute Ray Tune with Flyte as the backend\n",
    "@workflow\n",
    "def hyperopt_with_flyte_workflow(num_samples: int = 50, max_parallel_trials: int = 5) -> dict:\n",
    "    # Set up Ray Tune's search space (without running a Ray cluster)\n",
    "    search_space = {\n",
    "        \"x\": tune.uniform(-5, 5),\n",
    "        \"y\": tune.uniform(-5, 5)\n",
    "    }\n",
    "\n",
    "    # Use Ray Tune to suggest configurations for each trial\n",
    "    search_algo = tune.search.hyperopt.HyperOptSearch()\n",
    "    trial_configs = [\n",
    "        search_algo.suggest(f\"trial_{i}\", search_space) for i in range(num_samples)\n",
    "    ]\n",
    "    \n",
    "    # Evaluate trials in parallel, limited by max_parallel_trials\n",
    "    losses = map_task(evaluate_model, metadata={\"parallelism\": max_parallel_trials})(\n",
    "        x=[config[\"x\"] for config in trial_configs],\n",
    "        y=[config[\"y\"] for config in trial_configs]\n",
    "    )\n",
    "\n",
    "    # Find the best configuration based on minimum loss\n",
    "    min_loss_index = np.argmin(losses)\n",
    "    best_config = {\n",
    "        \"x\": trial_configs[min_loss_index][\"x\"],\n",
    "        \"y\": trial_configs[min_loss_index][\"y\"],\n",
    "        \"loss\": losses[min_loss_index]\n",
    "    }\n",
    "    return best_config"
   ]
  }
 ],
 "metadata": {
  "language_info": {
   "name": "python"
  }
 },
 "nbformat": 4,
 "nbformat_minor": 2
}
